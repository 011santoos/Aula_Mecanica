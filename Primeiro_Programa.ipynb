{
  "nbformat": 4,
  "nbformat_minor": 0,
  "metadata": {
    "colab": {
      "provenance": [],
      "toc_visible": true,
      "authorship_tag": "ABX9TyOIKwkv2IQgQ4b3q6AXOv04",
      "include_colab_link": true
    },
    "kernelspec": {
      "name": "python3",
      "display_name": "Python 3"
    },
    "language_info": {
      "name": "python"
    }
  },
  "cells": [
    {
      "cell_type": "markdown",
      "metadata": {
        "id": "view-in-github",
        "colab_type": "text"
      },
      "source": [
        "<a href=\"https://colab.research.google.com/github/011santoos/Aula_Mecanica/blob/main/Primeiro_Programa.ipynb\" target=\"_parent\"><img src=\"https://colab.research.google.com/assets/colab-badge.svg\" alt=\"Open In Colab\"/></a>"
      ]
    },
    {
      "cell_type": "code",
      "execution_count": null,
      "metadata": {
        "id": "jQuKVDpK-tiv",
        "colab": {
          "base_uri": "https://localhost:8080/"
        },
        "outputId": "809284f3-465f-4c62-918b-dafab69115d5"
      },
      "outputs": [
        {
          "output_type": "stream",
          "name": "stdout",
          "text": [
            "<class 'int'>\n",
            "<class 'int'>\n",
            "<class 'int'>\n",
            "5\n"
          ]
        }
      ],
      "source": [
        "#Importancia dos tipos de variaveis\n",
        "a = 2\n",
        "print(type(a))\n",
        "b = 3\n",
        "print(type(b))\n",
        "soma = a + b\n",
        "print(type(soma))\n",
        "print(soma)"
      ]
    },
    {
      "cell_type": "markdown",
      "source": [
        "#Lembrar que sempre que quiser calcular é preciso informar que estou lidando com n° Int ou Float\n"
      ],
      "metadata": {
        "id": "UuvquyxHIpV8"
      }
    },
    {
      "cell_type": "code",
      "source": [
        "num = int(input(\"Digite valor inteiro\"))\n",
        "print(type(num))\n",
        "quoc = num//2\n",
        "resto = num % 2\n",
        "print(quoc)\n",
        "print(resto)\n"
      ],
      "metadata": {
        "colab": {
          "base_uri": "https://localhost:8080/"
        },
        "id": "jaoRcil7I8aj",
        "outputId": "723548c3-b54e-4d39-b4b5-21bbe4ad1367"
      },
      "execution_count": null,
      "outputs": [
        {
          "output_type": "stream",
          "name": "stdout",
          "text": [
            "Digite valor inteiro9\n",
            "<class 'int'>\n",
            "4\n",
            "1\n"
          ]
        }
      ]
    },
    {
      "cell_type": "code",
      "source": [
        "b = float(input(\"Digite Valor Base:\"))\n",
        "h = float(input(\"Digite Valor Altura:\"))\n",
        "a = b*h/2.0\n",
        "print(a)"
      ],
      "metadata": {
        "id": "3B7JUotCK-za",
        "outputId": "d5db4ffb-7cf7-45fb-f574-5c8afe65812f",
        "colab": {
          "base_uri": "https://localhost:8080/"
        }
      },
      "execution_count": null,
      "outputs": [
        {
          "output_type": "stream",
          "name": "stdout",
          "text": [
            "Digite Valor Base:5\n",
            "Digite Valor Altura:2\n",
            "5.0\n"
          ]
        }
      ]
    },
    {
      "cell_type": "code",
      "source": [
        "p = float(input(\"Digite valor polegada\"))\n",
        "mm = p*25.4\n",
        "print (\"Valor polegada em\",mm)\n"
      ],
      "metadata": {
        "id": "FeBdTgw0-2_G",
        "outputId": "56ab760a-25e8-42f8-d77d-71f53ebf9d79",
        "colab": {
          "base_uri": "https://localhost:8080/"
        }
      },
      "execution_count": null,
      "outputs": [
        {
          "output_type": "stream",
          "name": "stdout",
          "text": [
            "Digite valor polegada6\n",
            "Valor polegada em 152.39999999999998\n"
          ]
        }
      ]
    },
    {
      "cell_type": "code",
      "source": [
        "r = float(input(\"Digite o raio\"))\n",
        "v = (4/3) * 3.14 * r**3\n",
        "print (\"Volume da esfera\",v)\n",
        "\n",
        "\n"
      ],
      "metadata": {
        "id": "Cz42jKoZFBBB",
        "outputId": "175dcbc3-0f37-4050-9475-eeaf3ed302ed",
        "colab": {
          "base_uri": "https://localhost:8080/"
        }
      },
      "execution_count": null,
      "outputs": [
        {
          "output_type": "stream",
          "name": "stdout",
          "text": [
            "Digite o raio20\n",
            "Volume da esfera 33493.333333333336\n"
          ]
        }
      ]
    },
    {
      "cell_type": "code",
      "source": [
        "g = float(input(\"Digite o angulo\"))\n",
        "r = g*3.14/180\n",
        "print (\"Valor em radianos\",r)"
      ],
      "metadata": {
        "id": "5C8po21iHXI5",
        "outputId": "6ebc48ab-2235-4ece-f6b4-4c1397bfcc59",
        "colab": {
          "base_uri": "https://localhost:8080/"
        }
      },
      "execution_count": null,
      "outputs": [
        {
          "output_type": "stream",
          "name": "stdout",
          "text": [
            "Digite o angulo20\n",
            "Valor em radianos 0.3488888888888889\n"
          ]
        }
      ]
    },
    {
      "cell_type": "code",
      "source": [
        "r = float(input(\"Digite angulo radiano\"))\n",
        "g = r*180/3.14\n",
        "print (\"Valor em graus\", g)"
      ],
      "metadata": {
        "id": "YK7gG9weIb0I",
        "outputId": "2041c85c-b771-4530-d000-ddbe35e20690",
        "colab": {
          "base_uri": "https://localhost:8080/"
        }
      },
      "execution_count": null,
      "outputs": [
        {
          "output_type": "stream",
          "name": "stdout",
          "text": [
            "Digite angulo radiano1\n",
            "Valor em graus 57.324840764331206\n"
          ]
        }
      ]
    },
    {
      "cell_type": "code",
      "source": [
        "r=float(input(\"Digite o angulo em radianos\"))\n",
        "a = r*200/3.14\n",
        "print (\"Valor em grados\",a)"
      ],
      "metadata": {
        "id": "6dYb5S7TJ4si",
        "outputId": "c022d207-a692-41b1-d4ba-91af7a08037d",
        "colab": {
          "base_uri": "https://localhost:8080/"
        }
      },
      "execution_count": null,
      "outputs": [
        {
          "output_type": "stream",
          "name": "stdout",
          "text": [
            "Digite o angulo em radianos1\n",
            "Valor em grados 63.69426751592356\n"
          ]
        }
      ]
    },
    {
      "cell_type": "code",
      "source": [
        "x = int(input(\"Digite um número \"))\n",
        "r = x % 3\n",
        "if r == 0:\n",
        "  print(\"o número é divisível por 3\")\n",
        "else:\n",
        "  print(\"o número não é divisível por 3\")\n",
        ""
      ],
      "metadata": {
        "id": "HlzcSrVKEl68",
        "outputId": "599278f8-1dd6-49c2-87e0-82f8479590f9",
        "colab": {
          "base_uri": "https://localhost:8080/"
        }
      },
      "execution_count": 24,
      "outputs": [
        {
          "output_type": "stream",
          "name": "stdout",
          "text": [
            "Digite um número 4\n",
            "o número não é divisível por 3\n"
          ]
        }
      ]
    },
    {
      "cell_type": "code",
      "source": [
        "n1 = float(input(\"Digite a nota 1:\"))\n",
        "n2 = float(input(\"Digite a nota 2:\"))\n",
        "\n",
        "media = (n1 + n2) / 2\n",
        "\n",
        "if media >= 5:\n",
        "  print(\"Aprovado\")\n",
        "elif media >= 4:\n",
        "  print(\"Recuperação\")\n",
        "else:\n",
        "  print(\"Reprovado\")\n"
      ],
      "metadata": {
        "id": "uOW4nU9FKcmH",
        "outputId": "3bd41477-6d46-4e06-92d4-2f8c0d1d4bd2",
        "colab": {
          "base_uri": "https://localhost:8080/"
        }
      },
      "execution_count": 22,
      "outputs": [
        {
          "output_type": "stream",
          "name": "stdout",
          "text": [
            "Digite a nota 1:20\n",
            "Digite a nota 2:10\n",
            "Aprovado\n"
          ]
        }
      ]
    },
    {
      "cell_type": "code",
      "source": [
        "a = float(input(\"Digite o valor de a: \"))\n",
        "b = float(input(\"Digite o valor de b: \"))\n",
        "c = float(input(\"Digite o valor de c: \"))\n",
        "\n",
        "if a <= b and a <= c:\n",
        "  menor = a\n",
        "elif b <= a and b <= c:\n",
        "  menor = b\n",
        "else:\n",
        "  menor = c\n",
        "\n",
        "print(f\"O menor valor é: {menor}\")\n"
      ],
      "metadata": {
        "id": "DH9ifntYR9yM",
        "outputId": "b0265cb1-4c97-4a98-bc6f-6d83b895a0b2",
        "colab": {
          "base_uri": "https://localhost:8080/"
        }
      },
      "execution_count": 37,
      "outputs": [
        {
          "output_type": "stream",
          "name": "stdout",
          "text": [
            "Digite o valor de a: 1\n",
            "Digite o valor de b: 10\n",
            "Digite o valor de c: 5\n",
            "O menor valor é: 1.0\n"
          ]
        }
      ]
    }
  ]
}